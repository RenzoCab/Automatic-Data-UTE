{
 "cells": [
  {
   "cell_type": "code",
   "execution_count": 1,
   "metadata": {},
   "outputs": [],
   "source": [
    "import requests\n",
    "import os"
   ]
  },
  {
   "cell_type": "code",
   "execution_count": 2,
   "metadata": {},
   "outputs": [],
   "source": [
    "def ADME_Data(number,sheet): # http://latorre.adme.com.uy\n",
    "        \n",
    "    file_path = [\"./ADME_\",sheet,'/',str(number),'.xlt']\n",
    "    file_path = \"\".join(file_path)\n",
    "    \n",
    "    file_name = [str(number),'.xlt']\n",
    "    file_name = \"\".join(file_name)\n",
    "    \n",
    "    directory = os.path.dirname(file_path)\n",
    "    \n",
    "    url = [\"http://latorre.adme.com.uy/vates/\",str(number),\"/hoja_\",sheet,\".xlt\"]\n",
    "    url = \"\".join(url)\n",
    "    \n",
    "    if not os.path.exists(directory):\n",
    "        os.makedirs(directory)\n",
    "    \n",
    "    for root, dirs, files in os.walk(directory):\n",
    "        if not file_name in files:\n",
    "            r = requests.get(url, allow_redirects=True)\n",
    "            open(file_path, \"wb\").write(r.content)\n",
    "            print(sheet,number)\n",
    "            \n",
    "    return"
   ]
  },
  {
   "cell_type": "code",
   "execution_count": 3,
   "metadata": {},
   "outputs": [],
   "source": [
    "sheets_all = ['Aportes_SaltoGrande','Aportes_Bonete','Aportes_Palmar','Aportes_Baygorria','Eolica',\\\n",
    "          'Eolica_Acumulada','Solar','Solar_Acumulada','Demanda_Tmin_Tmax','Demanda','Demanda_acumulada',\\\n",
    "          'PMax_UYBR','Exp_Brasil_p90','Exportaciones','CostoMarginal_UY','CME_CVaR20','Sumidero_Acumulado',\\\n",
    "          'GenPorFuente','CTRs','cota_Bonete','cota_Palmar','cota_SG_UY','CVAguaHm3','CVAguaMWh',\\\n",
    "          'Bonete','Baygorria','Palmar','S_Grande','CostosDirectosAcumulados','CostoTotal_1',\\\n",
    "          'CostoTotal_2','CostoTotal_3','CostoTotal_4','BiomasaDistribuida','UPM','MotoresCentralBatlle_7x10',\\\n",
    "          'PuntaDelTigreGas','PuntaDelTigreGasOil','PuntaDelTigre7y8','CicloCombinado_GasOil',\\\n",
    "          'CicloCombinado_Gas','Sumidero','ValorDelAguaBonete','ValorDelAguaPalmar','ValorDelAguaSaltoGrande',\\\n",
    "          'Cotas','VertimientoBonete','CoeficienteEnergeticoBone','ValoresRecursosUY','CME_CVaR5','CME_VE',\\\n",
    "          'Spot_UY','CME_Leve','CME_Media','CME_Pesada','Valores_Palmar','Valores_Bonete','ValoresAguaPromedio',\\\n",
    "          'iN34','Consumo_diario_total_de_G','Consumo_diario_total_GN_p','bandas_cvas']"
   ]
  },
  {
   "cell_type": "code",
   "execution_count": 4,
   "metadata": {},
   "outputs": [],
   "source": [
    "for i in range(0,len(sheets_all)-1):\n",
    "    for j in range(14000,15458): # 15458 --> 26/07/2019\n",
    "        \n",
    "        ADME_Data(j,sheets_all[i])"
   ]
  }
 ],
 "metadata": {
  "kernelspec": {
   "display_name": "Python 3",
   "language": "python",
   "name": "python3"
  },
  "language_info": {
   "codemirror_mode": {
    "name": "ipython",
    "version": 3
   },
   "file_extension": ".py",
   "mimetype": "text/x-python",
   "name": "python",
   "nbconvert_exporter": "python",
   "pygments_lexer": "ipython3",
   "version": "3.7.3"
  }
 },
 "nbformat": 4,
 "nbformat_minor": 2
}
