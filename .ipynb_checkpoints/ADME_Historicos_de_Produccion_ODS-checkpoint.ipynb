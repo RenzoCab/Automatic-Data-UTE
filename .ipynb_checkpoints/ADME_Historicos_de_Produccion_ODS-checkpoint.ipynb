{
 "cells": [
  {
   "cell_type": "code",
   "execution_count": 37,
   "metadata": {},
   "outputs": [],
   "source": [
    "import requests\n",
    "import os\n",
    "import datetime\n",
    "from datetime import timedelta\n",
    "import webbrowser\n",
    "\n",
    "# Author: Renzo Caballero\n",
    "# KAUST: King Abdullah University of Science and Technology\n",
    "# email: renzo.caballerorosas@kaust.edu.sa caballerorenzo@hotmail.com\n",
    "# Website: None.\n",
    "# August 2019; Last revision: 30/08/2019."
   ]
  },
  {
   "cell_type": "code",
   "execution_count": 38,
   "metadata": {},
   "outputs": [],
   "source": [
    "def ADME_Historicos(date): # https://pronos.adme.com.uy\n",
    "        \n",
    "    date_next = date + timedelta(days=1)\n",
    "    \n",
    "    url1 = ['https://pronos.adme.com.uy/gpf.php?fecha_ini=',str(date.day),'%2F',str(date.month),'%2F',str(date.year),\n",
    "            '&fecha_fin=',str(date_next.day),'%2F',str(date_next.month),'%2F',str(date_next.year),'&send=MOSTRAR']\n",
    "    url1 = \"\".join(url1)\n",
    "    \n",
    "    file_name = [date.strftime(\"%Y%m%d\"),'.ods']\n",
    "    # The real format of the files is .ods.\n",
    "    file_name = \"\".join(file_name) # The name to the file which we will save.\n",
    "    file_path = ['./ADME_Historicos/',file_name]\n",
    "    file_path = \"\".join(file_path)\n",
    "    directory = os.path.dirname(file_path)\n",
    "\n",
    "    if not os.path.exists(directory):\n",
    "        os.makedirs(directory)\n",
    "    \n",
    "    for root, dirs, files in os.walk(directory):\n",
    "        if not file_name in files:\n",
    "            sess = requests.Session()\n",
    "            sess.get(url1) # This is to call the webpage before pressing the button download.\n",
    "            response = requests.get('https://pronos.adme.com.uy/ods/datos_gen_int.ods')\n",
    "            open(file_path, \"wb\").write(response.content)\n",
    "            print(date)\n",
    "            \n",
    "    return"
   ]
  },
  {
   "cell_type": "code",
   "execution_count": 39,
   "metadata": {},
   "outputs": [
    {
     "name": "stdout",
     "output_type": "stream",
     "text": [
      "2019-08-26 00:00:00\n",
      "2019-08-27 00:00:00\n"
     ]
    }
   ],
   "source": [
    "date = datetime.datetime(2016,11,3)\n",
    "today = date.today()\n",
    "twoDaysAgo = today - timedelta(days=2)\n",
    "\n",
    "while date.strftime(\"%d/%m/%Y\") != twoDaysAgo.strftime(\"%d/%m/%Y\"):\n",
    "        \n",
    "    ADME_Historicos(date)\n",
    "        \n",
    "    date = date + timedelta(days=1)"
   ]
  },
  {
   "cell_type": "code",
   "execution_count": 36,
   "metadata": {},
   "outputs": [
    {
     "name": "stdout",
     "output_type": "stream",
     "text": [
      "2017-02-11 00:00:00\n"
     ]
    }
   ],
   "source": [
    "# Here we can choose which day to download:\n",
    "\n",
    "# date = datetime.datetime(2017,2,11)\n",
    "\n",
    "# date_next = date + timedelta(days=1)\n",
    "\n",
    "# url1 = ['https://pronos.adme.com.uy/gpf.php?fecha_ini=',str(date.day),'%2F',str(date.month),'%2F',str(date.year),\n",
    "#         '&fecha_fin=',str(date_next.day),'%2F',str(date_next.month),'%2F',str(date_next.year),'&send=MOSTRAR']\n",
    "# url1 = \"\".join(url1)\n",
    "\n",
    "# file_name = [date.strftime(\"%Y%m%d\"),'.ods']\n",
    "# # The real format of the files is .ods.\n",
    "# file_name = \"\".join(file_name) # The name to the file which we will save.\n",
    "# file_path = ['./ADME_Historicos/',file_name]\n",
    "# file_path = \"\".join(file_path)\n",
    "# directory = os.path.dirname(file_path)\n",
    "\n",
    "# if not os.path.exists(directory):\n",
    "#     os.makedirs(directory)\n",
    "\n",
    "# sess = requests.Session()\n",
    "# sess.get(url1) # This is to call the webpage before pressing the button download.\n",
    "# response = requests.get('https://pronos.adme.com.uy/ods/datos_gen_int.ods')\n",
    "# open(file_path, \"wb\").write(response.content)\n",
    "# print(date)"
   ]
  }
 ],
 "metadata": {
  "kernelspec": {
   "display_name": "Python 3",
   "language": "python",
   "name": "python3"
  },
  "language_info": {
   "codemirror_mode": {
    "name": "ipython",
    "version": 3
   },
   "file_extension": ".py",
   "mimetype": "text/x-python",
   "name": "python",
   "nbconvert_exporter": "python",
   "pygments_lexer": "ipython3",
   "version": "3.7.3"
  }
 },
 "nbformat": 4,
 "nbformat_minor": 2
}
