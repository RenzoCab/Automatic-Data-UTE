{
 "cells": [
  {
   "cell_type": "code",
   "execution_count": 4,
   "metadata": {},
   "outputs": [],
   "source": [
    "import requests #https://curl.trillworks.com/#python\n",
    "import os\n",
    "from bs4 import BeautifulSoup\n",
    "import datetime\n",
    "from datetime import timedelta\n",
    "from xlutils.copy import copy # http://pypi.python.org/pypi/xlutils\n",
    "from xlrd import open_workbook # http://pypi.python.org/pypi/xlrd\n",
    "from xlwt import easyxf # http://pypi.python.org/pypi/xlwt\n",
    "import xlwt\n",
    "\n",
    "# Author: Renzo Caballero\n",
    "# KAUST: King Abdullah University of Science and Technology\n",
    "# email: renzo.caballerorosas@kaust.edu.sa caballerorenzo@hotmail.com\n",
    "# Website: None.\n",
    "# August 2019; Last revision: 20/08/2019."
   ]
  },
  {
   "cell_type": "code",
   "execution_count": 5,
   "metadata": {},
   "outputs": [],
   "source": [
    "def Palmar_Data(Date):\n",
    "    cookies = {\n",
    "    'ASP.NET_SessionId': 'ebrodb5503taw045sv4kdb34',\n",
    "    }\n",
    "\n",
    "    headers = {\n",
    "    'Connection': 'keep-alive',\n",
    "    'Cache-Control': 'max-age=0',\n",
    "    'Origin': 'https://apps.ute.com.uy',\n",
    "    'Upgrade-Insecure-Requests': '1',\n",
    "    'Content-Type': 'application/x-www-form-urlencoded',\n",
    "    'User-Agent': 'Mozilla/5.0 (Macintosh; Intel Mac OS X 10_14_5) AppleWebKit/537.36 (KHTML, like Gecko) Chrome/75.0.3770.100 Safari/537.36',\n",
    "    'Accept': 'text/html,application/xhtml+xml,application/xml;q=0.9,image/webp,image/apng,*/*;q=0.8,application/signed-exchange;v=b3',\n",
    "    'Referer': 'https://apps.ute.com.uy/SgePublico/ConsBalanceHid.aspx',\n",
    "    'Accept-Encoding': 'gzip, deflate, br',\n",
    "    'Accept-Language': 'en-US,en;q=0.9',\n",
    "    }\n",
    "\n",
    "    data = {\n",
    "    '__EVENTTARGET': '',\n",
    "    '__EVENTARGUMENT': '',\n",
    "    '__LASTFOCUS': '',\n",
    "    'ctl00_TreeViewMain_ExpandState': 'nnnnnnnnnnnnnnnn',\n",
    "    'ctl00_TreeViewMain_SelectedNode': '',\n",
    "    'ctl00_TreeViewMain_PopulateLog': '',\n",
    "    '__VIEWSTATE': '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',\n",
    "    '__VIEWSTATEGENERATOR': '797B1358',\n",
    "    '__EVENTVALIDATION': '/wEWGQLEufTaDQKHxLbGBQLi1N8DAoPFhowBAozR5qwKAozR4qwKAozR6qwKAtSX9IoKAsLE9owOArXX6wQC16/w+QsC5aHR7QsCquvo2wYC7Ln23AUCkZnO3wgC5r2l1QQC2vnp9QYCr8D6iQwCzteRzA8CkuC+xwoCypWFrgsCw+a7mQ8CjMSQxAMCvPz7qwYC34vKwwpoqzu4utTzLMQ+fm8Ga3KziSgX1A==',\n",
    "    'ctl00$ContentPlaceHolder1$FechaIni$textBox': Date,\n",
    "    'ctl00$ContentPlaceHolder1$FechaIni$hidden': Date,\n",
    "    'ctl00$ContentPlaceHolder1$cboCentrales': '100001',\n",
    "    'ctl00$ContentPlaceHolder1$cmdAplicar': 'Aplicar'\n",
    "    }\n",
    "    \n",
    "    ok = 0;\n",
    "    \n",
    "    while ok == 0:\n",
    "        try:\n",
    "            response = requests.post('https://apps.ute.com.uy/SgePublico/ConsBalanceHid.aspx', headers=headers, cookies=cookies, data=data)\n",
    "            ok = 1;\n",
    "            while response.status_code != 200:\n",
    "                response = requests.post('https://apps.ute.com.uy/SgePublico/ConsBalanceHid.aspx', headers=headers, cookies=cookies, data=data)\n",
    "        except:\n",
    "            ok = 0;    \n",
    "    \n",
    "    return response"
   ]
  },
  {
   "cell_type": "code",
   "execution_count": 6,
   "metadata": {
    "scrolled": true
   },
   "outputs": [
    {
     "name": "stdout",
     "output_type": "stream",
     "text": [
      "01/01/2019\n"
     ]
    },
    {
     "ename": "NameError",
     "evalue": "name 'copy' is not defined",
     "output_type": "error",
     "traceback": [
      "\u001b[0;31m---------------------------------------------------------------------------\u001b[0m",
      "\u001b[0;31mNameError\u001b[0m                                 Traceback (most recent call last)",
      "\u001b[0;32m<ipython-input-6-64f58a38b680>\u001b[0m in \u001b[0;36m<module>\u001b[0;34m\u001b[0m\n\u001b[1;32m     18\u001b[0m         \u001b[0mrb\u001b[0m \u001b[0;34m=\u001b[0m \u001b[0mopen_workbook\u001b[0m\u001b[0;34m(\u001b[0m\u001b[0mfile_path\u001b[0m\u001b[0;34m,\u001b[0m\u001b[0mformatting_info\u001b[0m\u001b[0;34m=\u001b[0m\u001b[0;32mTrue\u001b[0m\u001b[0;34m)\u001b[0m\u001b[0;34m\u001b[0m\u001b[0;34m\u001b[0m\u001b[0m\n\u001b[1;32m     19\u001b[0m         \u001b[0mr_sheet\u001b[0m \u001b[0;34m=\u001b[0m \u001b[0mrb\u001b[0m\u001b[0;34m.\u001b[0m\u001b[0msheet_by_index\u001b[0m\u001b[0;34m(\u001b[0m\u001b[0;36m0\u001b[0m\u001b[0;34m)\u001b[0m \u001b[0;31m# read only copy to introspect the file\u001b[0m\u001b[0;34m\u001b[0m\u001b[0;34m\u001b[0m\u001b[0m\n\u001b[0;32m---> 20\u001b[0;31m         \u001b[0mwb\u001b[0m \u001b[0;34m=\u001b[0m \u001b[0mcopy\u001b[0m\u001b[0;34m(\u001b[0m\u001b[0mrb\u001b[0m\u001b[0;34m)\u001b[0m \u001b[0;31m# a writable copy (I can't read values out of this, only write to it)\u001b[0m\u001b[0;34m\u001b[0m\u001b[0;34m\u001b[0m\u001b[0m\n\u001b[0m\u001b[1;32m     21\u001b[0m         \u001b[0mw_sheet\u001b[0m \u001b[0;34m=\u001b[0m \u001b[0mwb\u001b[0m\u001b[0;34m.\u001b[0m\u001b[0mget_sheet\u001b[0m\u001b[0;34m(\u001b[0m\u001b[0;36m0\u001b[0m\u001b[0;34m)\u001b[0m \u001b[0;31m# the sheet to write to within the writable copy\u001b[0m\u001b[0;34m\u001b[0m\u001b[0;34m\u001b[0m\u001b[0m\n\u001b[1;32m     22\u001b[0m         \u001b[0mlastRow\u001b[0m \u001b[0;34m=\u001b[0m \u001b[0mw_sheet\u001b[0m\u001b[0;34m.\u001b[0m\u001b[0mlast_used_row\u001b[0m \u001b[0;31m# 0 based (subtract 1 from excel final row number).\u001b[0m\u001b[0;34m\u001b[0m\u001b[0;34m\u001b[0m\u001b[0m\n",
      "\u001b[0;31mNameError\u001b[0m: name 'copy' is not defined"
     ]
    }
   ],
   "source": [
    "date = datetime.datetime(2019,1,1)\n",
    "\n",
    "today = date.today()\n",
    "twoDaysAgo = today - timedelta(days=2)\n",
    "stringTDA = twoDaysAgo.strftime(\"%d/%m/%Y\")\n",
    "\n",
    "Indexes = (19,25,31,37,43,49,55,61)\n",
    "weWrote = 1\n",
    "\n",
    "file_path = './Palmar_Data.xls'\n",
    "\n",
    "while date.strftime(\"%d/%m/%Y\") != stringTDA:\n",
    "    \n",
    "    print(date.strftime(\"%d/%m/%Y\"))\n",
    "\n",
    "    if weWrote == 1:\n",
    "\n",
    "        rb = open_workbook(file_path,formatting_info=True)\n",
    "        r_sheet = rb.sheet_by_index(0) # read only copy to introspect the file\n",
    "        wb = copy(rb) # a writable copy (I can't read values out of this, only write to it)\n",
    "        w_sheet = wb.get_sheet(0) # the sheet to write to within the writable copy\n",
    "        lastRow = w_sheet.last_used_row # 0 based (subtract 1 from excel final row number).\n",
    "\n",
    "        colDate = r_sheet.col(0)\n",
    "        List = [None]*(len(colDate)-8000)\n",
    "        for i in range(0,len(colDate)-8000):\n",
    "            List[i] = colDate[i+8000].value\n",
    "        #     print(List[i].value)\n",
    "\n",
    "        weWrote = 0\n",
    "\n",
    "    if not (date.strftime(\"%d/%m/%Y\") in List):\n",
    "        \n",
    "        weWrote = 1\n",
    "        j = 1\n",
    "        response = Palmar_Data(date)\n",
    "        response_soup = BeautifulSoup(response.content, 'html.parser')\n",
    "        All_td = response_soup.find_all('td')\n",
    "        List = list(All_td)\n",
    "        print(date.strftime(\"%d/%m/%Y\"))\n",
    "        w_sheet.write(lastRow+1, 0, date.strftime(\"%d/%m/%Y\"))\n",
    "        for k in Indexes:\n",
    "        \n",
    "            string = List[k].string\n",
    "            string = string.replace(\".\", \"\")\n",
    "            string = string.replace(\",\", \".\") # replace(\"A\", \"B\") this replaces A by B in a string.\n",
    "            number = float(string)\n",
    "            print(number)\n",
    "            \n",
    "            w_sheet.write(lastRow+1, j, number)\n",
    "            j = j + 1\n",
    "            \n",
    "        wb.save(file_path)\n",
    "    \n",
    "    date = date + timedelta(days=1)"
   ]
  },
  {
   "cell_type": "code",
   "execution_count": null,
   "metadata": {},
   "outputs": [],
   "source": []
  }
 ],
 "metadata": {
  "kernelspec": {
   "display_name": "Python 3",
   "language": "python",
   "name": "python3"
  },
  "language_info": {
   "codemirror_mode": {
    "name": "ipython",
    "version": 3
   },
   "file_extension": ".py",
   "mimetype": "text/x-python",
   "name": "python",
   "nbconvert_exporter": "python",
   "pygments_lexer": "ipython3",
   "version": "3.7.3"
  }
 },
 "nbformat": 4,
 "nbformat_minor": 2
}
